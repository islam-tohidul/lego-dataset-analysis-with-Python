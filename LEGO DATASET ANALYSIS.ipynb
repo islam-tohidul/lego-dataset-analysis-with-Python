{
 "cells": [
  {
   "cell_type": "markdown",
   "id": "9edf822f",
   "metadata": {},
   "source": [
    "# LEGO DATASET ANALYSIS"
   ]
  },
  {
   "cell_type": "markdown",
   "id": "eed9095d",
   "metadata": {},
   "source": [
    "### Importing Libraries"
   ]
  },
  {
   "cell_type": "code",
   "execution_count": 1,
   "id": "7f4beff1",
   "metadata": {},
   "outputs": [],
   "source": [
    "import numpy as np\n",
    "import pandas as pd"
   ]
  },
  {
   "cell_type": "markdown",
   "id": "2905d4f8",
   "metadata": {},
   "source": [
    "### Getting Data"
   ]
  },
  {
   "cell_type": "code",
   "execution_count": 2,
   "id": "3cb0c6b9",
   "metadata": {},
   "outputs": [],
   "source": [
    "sets = pd.read_csv('sets.csv')\n"
   ]
  },
  {
   "cell_type": "code",
   "execution_count": 3,
   "id": "653e6f52",
   "metadata": {},
   "outputs": [
    {
     "data": {
      "text/html": [
       "<div>\n",
       "<style scoped>\n",
       "    .dataframe tbody tr th:only-of-type {\n",
       "        vertical-align: middle;\n",
       "    }\n",
       "\n",
       "    .dataframe tbody tr th {\n",
       "        vertical-align: top;\n",
       "    }\n",
       "\n",
       "    .dataframe thead th {\n",
       "        text-align: right;\n",
       "    }\n",
       "</style>\n",
       "<table border=\"1\" class=\"dataframe\">\n",
       "  <thead>\n",
       "    <tr style=\"text-align: right;\">\n",
       "      <th></th>\n",
       "      <th>set_num</th>\n",
       "      <th>name</th>\n",
       "      <th>year</th>\n",
       "      <th>theme_id</th>\n",
       "      <th>num_parts</th>\n",
       "    </tr>\n",
       "  </thead>\n",
       "  <tbody>\n",
       "    <tr>\n",
       "      <th>0</th>\n",
       "      <td>001-1</td>\n",
       "      <td>Gears</td>\n",
       "      <td>1965</td>\n",
       "      <td>1</td>\n",
       "      <td>43</td>\n",
       "    </tr>\n",
       "    <tr>\n",
       "      <th>1</th>\n",
       "      <td>0011-2</td>\n",
       "      <td>Town Mini-Figures</td>\n",
       "      <td>1979</td>\n",
       "      <td>67</td>\n",
       "      <td>12</td>\n",
       "    </tr>\n",
       "    <tr>\n",
       "      <th>2</th>\n",
       "      <td>0011-3</td>\n",
       "      <td>Castle 2 for 1 Bonus Offer</td>\n",
       "      <td>1987</td>\n",
       "      <td>199</td>\n",
       "      <td>0</td>\n",
       "    </tr>\n",
       "    <tr>\n",
       "      <th>3</th>\n",
       "      <td>0012-1</td>\n",
       "      <td>Space Mini-Figures</td>\n",
       "      <td>1979</td>\n",
       "      <td>143</td>\n",
       "      <td>12</td>\n",
       "    </tr>\n",
       "    <tr>\n",
       "      <th>4</th>\n",
       "      <td>0013-1</td>\n",
       "      <td>Space Mini-Figures</td>\n",
       "      <td>1979</td>\n",
       "      <td>143</td>\n",
       "      <td>12</td>\n",
       "    </tr>\n",
       "  </tbody>\n",
       "</table>\n",
       "</div>"
      ],
      "text/plain": [
       "  set_num                        name  year  theme_id  num_parts\n",
       "0   001-1                       Gears  1965         1         43\n",
       "1  0011-2           Town Mini-Figures  1979        67         12\n",
       "2  0011-3  Castle 2 for 1 Bonus Offer  1987       199          0\n",
       "3  0012-1          Space Mini-Figures  1979       143         12\n",
       "4  0013-1          Space Mini-Figures  1979       143         12"
      ]
     },
     "execution_count": 3,
     "metadata": {},
     "output_type": "execute_result"
    }
   ],
   "source": [
    "sets.head()"
   ]
  },
  {
   "cell_type": "code",
   "execution_count": 4,
   "id": "0b294379",
   "metadata": {},
   "outputs": [],
   "source": [
    "themes = pd.read_csv('themes.csv')"
   ]
  },
  {
   "cell_type": "code",
   "execution_count": 5,
   "id": "1c6a3d33",
   "metadata": {},
   "outputs": [],
   "source": [
    "pd.set_option('display.max_rows', 445)"
   ]
  },
  {
   "cell_type": "markdown",
   "id": "c4120715",
   "metadata": {},
   "source": [
    "### Display Top 10 rows of the dataset"
   ]
  },
  {
   "cell_type": "code",
   "execution_count": 6,
   "id": "6ce2eabe",
   "metadata": {},
   "outputs": [
    {
     "data": {
      "text/html": [
       "<div>\n",
       "<style scoped>\n",
       "    .dataframe tbody tr th:only-of-type {\n",
       "        vertical-align: middle;\n",
       "    }\n",
       "\n",
       "    .dataframe tbody tr th {\n",
       "        vertical-align: top;\n",
       "    }\n",
       "\n",
       "    .dataframe thead th {\n",
       "        text-align: right;\n",
       "    }\n",
       "</style>\n",
       "<table border=\"1\" class=\"dataframe\">\n",
       "  <thead>\n",
       "    <tr style=\"text-align: right;\">\n",
       "      <th></th>\n",
       "      <th>id</th>\n",
       "      <th>name</th>\n",
       "      <th>parent_id</th>\n",
       "    </tr>\n",
       "  </thead>\n",
       "  <tbody>\n",
       "    <tr>\n",
       "      <th>0</th>\n",
       "      <td>1</td>\n",
       "      <td>Technic</td>\n",
       "      <td>NaN</td>\n",
       "    </tr>\n",
       "    <tr>\n",
       "      <th>1</th>\n",
       "      <td>3</td>\n",
       "      <td>Competition</td>\n",
       "      <td>1.0</td>\n",
       "    </tr>\n",
       "    <tr>\n",
       "      <th>2</th>\n",
       "      <td>4</td>\n",
       "      <td>Expert Builder</td>\n",
       "      <td>1.0</td>\n",
       "    </tr>\n",
       "    <tr>\n",
       "      <th>3</th>\n",
       "      <td>16</td>\n",
       "      <td>RoboRiders</td>\n",
       "      <td>1.0</td>\n",
       "    </tr>\n",
       "    <tr>\n",
       "      <th>4</th>\n",
       "      <td>17</td>\n",
       "      <td>Speed Slammers</td>\n",
       "      <td>1.0</td>\n",
       "    </tr>\n",
       "    <tr>\n",
       "      <th>5</th>\n",
       "      <td>18</td>\n",
       "      <td>Star Wars</td>\n",
       "      <td>1.0</td>\n",
       "    </tr>\n",
       "    <tr>\n",
       "      <th>6</th>\n",
       "      <td>19</td>\n",
       "      <td>Supplemental</td>\n",
       "      <td>1.0</td>\n",
       "    </tr>\n",
       "    <tr>\n",
       "      <th>7</th>\n",
       "      <td>20</td>\n",
       "      <td>Throwbot Slizer</td>\n",
       "      <td>1.0</td>\n",
       "    </tr>\n",
       "    <tr>\n",
       "      <th>8</th>\n",
       "      <td>21</td>\n",
       "      <td>Universal Building Set</td>\n",
       "      <td>1.0</td>\n",
       "    </tr>\n",
       "    <tr>\n",
       "      <th>9</th>\n",
       "      <td>22</td>\n",
       "      <td>Creator</td>\n",
       "      <td>NaN</td>\n",
       "    </tr>\n",
       "  </tbody>\n",
       "</table>\n",
       "</div>"
      ],
      "text/plain": [
       "   id                    name  parent_id\n",
       "0   1                 Technic        NaN\n",
       "1   3             Competition        1.0\n",
       "2   4          Expert Builder        1.0\n",
       "3  16              RoboRiders        1.0\n",
       "4  17          Speed Slammers        1.0\n",
       "5  18               Star Wars        1.0\n",
       "6  19            Supplemental        1.0\n",
       "7  20         Throwbot Slizer        1.0\n",
       "8  21  Universal Building Set        1.0\n",
       "9  22                 Creator        NaN"
      ]
     },
     "execution_count": 6,
     "metadata": {},
     "output_type": "execute_result"
    }
   ],
   "source": [
    "themes.head(10)"
   ]
  },
  {
   "cell_type": "markdown",
   "id": "df9261f1",
   "metadata": {},
   "source": [
    "### Display Last 10 Rows of the dataset"
   ]
  },
  {
   "cell_type": "code",
   "execution_count": 7,
   "id": "f1c53c48",
   "metadata": {},
   "outputs": [
    {
     "data": {
      "text/html": [
       "<div>\n",
       "<style scoped>\n",
       "    .dataframe tbody tr th:only-of-type {\n",
       "        vertical-align: middle;\n",
       "    }\n",
       "\n",
       "    .dataframe tbody tr th {\n",
       "        vertical-align: top;\n",
       "    }\n",
       "\n",
       "    .dataframe thead th {\n",
       "        text-align: right;\n",
       "    }\n",
       "</style>\n",
       "<table border=\"1\" class=\"dataframe\">\n",
       "  <thead>\n",
       "    <tr style=\"text-align: right;\">\n",
       "      <th></th>\n",
       "      <th>id</th>\n",
       "      <th>name</th>\n",
       "      <th>parent_id</th>\n",
       "    </tr>\n",
       "  </thead>\n",
       "  <tbody>\n",
       "    <tr>\n",
       "      <th>435</th>\n",
       "      <td>711</td>\n",
       "      <td>The LEGO Batman Movie Series 2</td>\n",
       "      <td>535.0</td>\n",
       "    </tr>\n",
       "    <tr>\n",
       "      <th>436</th>\n",
       "      <td>712</td>\n",
       "      <td>Series 21 Minifigures</td>\n",
       "      <td>535.0</td>\n",
       "    </tr>\n",
       "    <tr>\n",
       "      <th>437</th>\n",
       "      <td>713</td>\n",
       "      <td>VIDIYO</td>\n",
       "      <td>NaN</td>\n",
       "    </tr>\n",
       "    <tr>\n",
       "      <th>438</th>\n",
       "      <td>714</td>\n",
       "      <td>Looney Tunes</td>\n",
       "      <td>535.0</td>\n",
       "    </tr>\n",
       "    <tr>\n",
       "      <th>439</th>\n",
       "      <td>715</td>\n",
       "      <td>Marvel</td>\n",
       "      <td>535.0</td>\n",
       "    </tr>\n",
       "    <tr>\n",
       "      <th>440</th>\n",
       "      <td>716</td>\n",
       "      <td>Modulex</td>\n",
       "      <td>NaN</td>\n",
       "    </tr>\n",
       "    <tr>\n",
       "      <th>441</th>\n",
       "      <td>717</td>\n",
       "      <td>Speed Racer</td>\n",
       "      <td>NaN</td>\n",
       "    </tr>\n",
       "    <tr>\n",
       "      <th>442</th>\n",
       "      <td>718</td>\n",
       "      <td>Series 22 Minifigures</td>\n",
       "      <td>535.0</td>\n",
       "    </tr>\n",
       "    <tr>\n",
       "      <th>443</th>\n",
       "      <td>719</td>\n",
       "      <td>BrickLink Designer Program</td>\n",
       "      <td>NaN</td>\n",
       "    </tr>\n",
       "    <tr>\n",
       "      <th>444</th>\n",
       "      <td>720</td>\n",
       "      <td>The Muppets</td>\n",
       "      <td>535.0</td>\n",
       "    </tr>\n",
       "  </tbody>\n",
       "</table>\n",
       "</div>"
      ],
      "text/plain": [
       "      id                            name  parent_id\n",
       "435  711  The LEGO Batman Movie Series 2      535.0\n",
       "436  712           Series 21 Minifigures      535.0\n",
       "437  713                          VIDIYO        NaN\n",
       "438  714                    Looney Tunes      535.0\n",
       "439  715                          Marvel      535.0\n",
       "440  716                         Modulex        NaN\n",
       "441  717                     Speed Racer        NaN\n",
       "442  718           Series 22 Minifigures      535.0\n",
       "443  719      BrickLink Designer Program        NaN\n",
       "444  720                     The Muppets      535.0"
      ]
     },
     "execution_count": 7,
     "metadata": {},
     "output_type": "execute_result"
    }
   ],
   "source": [
    "themes.tail(10)"
   ]
  },
  {
   "cell_type": "markdown",
   "id": "0601d9c5",
   "metadata": {},
   "source": [
    "### Check datatype of each columns"
   ]
  },
  {
   "cell_type": "code",
   "execution_count": 8,
   "id": "9c3b257d",
   "metadata": {},
   "outputs": [
    {
     "data": {
      "text/plain": [
       "id             int64\n",
       "name          object\n",
       "parent_id    float64\n",
       "dtype: object"
      ]
     },
     "execution_count": 8,
     "metadata": {},
     "output_type": "execute_result"
    }
   ],
   "source": [
    "themes.dtypes"
   ]
  },
  {
   "cell_type": "code",
   "execution_count": 9,
   "id": "c682001f",
   "metadata": {},
   "outputs": [
    {
     "data": {
      "text/plain": [
       "set_num      object\n",
       "name         object\n",
       "year          int64\n",
       "theme_id      int64\n",
       "num_parts     int64\n",
       "dtype: object"
      ]
     },
     "execution_count": 9,
     "metadata": {},
     "output_type": "execute_result"
    }
   ],
   "source": [
    "sets.dtypes"
   ]
  },
  {
   "cell_type": "markdown",
   "id": "f85cbbab",
   "metadata": {},
   "source": [
    "### Checking NULL values"
   ]
  },
  {
   "cell_type": "code",
   "execution_count": 10,
   "id": "40f07f70",
   "metadata": {},
   "outputs": [
    {
     "data": {
      "text/plain": [
       "set_num      0\n",
       "name         0\n",
       "year         0\n",
       "theme_id     0\n",
       "num_parts    0\n",
       "dtype: int64"
      ]
     },
     "execution_count": 10,
     "metadata": {},
     "output_type": "execute_result"
    }
   ],
   "source": [
    "sets.isnull().sum()"
   ]
  },
  {
   "cell_type": "code",
   "execution_count": 11,
   "id": "2ba7efdc",
   "metadata": {},
   "outputs": [
    {
     "data": {
      "text/plain": [
       "id             0\n",
       "name           0\n",
       "parent_id    138\n",
       "dtype: int64"
      ]
     },
     "execution_count": 11,
     "metadata": {},
     "output_type": "execute_result"
    }
   ],
   "source": [
    "themes.isnull().sum()"
   ]
  },
  {
   "cell_type": "markdown",
   "id": "a569eb43",
   "metadata": {},
   "source": [
    "### How many rows and columns are there in our dataset"
   ]
  },
  {
   "cell_type": "code",
   "execution_count": 12,
   "id": "cfb45ade",
   "metadata": {},
   "outputs": [
    {
     "data": {
      "text/plain": [
       "(19415, 5)"
      ]
     },
     "execution_count": 12,
     "metadata": {},
     "output_type": "execute_result"
    }
   ],
   "source": [
    "sets.shape"
   ]
  },
  {
   "cell_type": "code",
   "execution_count": 13,
   "id": "779cb146",
   "metadata": {},
   "outputs": [
    {
     "data": {
      "text/plain": [
       "5"
      ]
     },
     "execution_count": 13,
     "metadata": {},
     "output_type": "execute_result"
    }
   ],
   "source": [
    "len(sets.columns)"
   ]
  },
  {
   "cell_type": "code",
   "execution_count": 14,
   "id": "4a07d5c8",
   "metadata": {},
   "outputs": [
    {
     "name": "stdout",
     "output_type": "stream",
     "text": [
      "<class 'pandas.core.frame.DataFrame'>\n",
      "RangeIndex: 19415 entries, 0 to 19414\n",
      "Data columns (total 5 columns):\n",
      " #   Column     Non-Null Count  Dtype \n",
      "---  ------     --------------  ----- \n",
      " 0   set_num    19415 non-null  object\n",
      " 1   name       19415 non-null  object\n",
      " 2   year       19415 non-null  int64 \n",
      " 3   theme_id   19415 non-null  int64 \n",
      " 4   num_parts  19415 non-null  int64 \n",
      "dtypes: int64(3), object(2)\n",
      "memory usage: 758.5+ KB\n"
     ]
    }
   ],
   "source": [
    "sets.info()"
   ]
  },
  {
   "cell_type": "markdown",
   "id": "6f6511a1",
   "metadata": {},
   "source": [
    "### Joining the two datasets to answer questions"
   ]
  },
  {
   "cell_type": "code",
   "execution_count": 15,
   "id": "08d3312e",
   "metadata": {},
   "outputs": [],
   "source": [
    "sets_themes = pd.merge(sets, themes, how = 'left', left_on = 'theme_id', right_on='id', suffixes = ('_sets', '_themes'))"
   ]
  },
  {
   "cell_type": "code",
   "execution_count": 16,
   "id": "5761df50",
   "metadata": {},
   "outputs": [
    {
     "name": "stdout",
     "output_type": "stream",
     "text": [
      "<class 'pandas.core.frame.DataFrame'>\n",
      "Int64Index: 19415 entries, 0 to 19414\n",
      "Data columns (total 8 columns):\n",
      " #   Column       Non-Null Count  Dtype  \n",
      "---  ------       --------------  -----  \n",
      " 0   set_num      19415 non-null  object \n",
      " 1   name_sets    19415 non-null  object \n",
      " 2   year         19415 non-null  int64  \n",
      " 3   theme_id     19415 non-null  int64  \n",
      " 4   num_parts    19415 non-null  int64  \n",
      " 5   id           19415 non-null  int64  \n",
      " 6   name_themes  19415 non-null  object \n",
      " 7   parent_id    8900 non-null   float64\n",
      "dtypes: float64(1), int64(4), object(3)\n",
      "memory usage: 1.3+ MB\n"
     ]
    }
   ],
   "source": [
    "sets_themes.info()"
   ]
  },
  {
   "cell_type": "code",
   "execution_count": 17,
   "id": "5d515531",
   "metadata": {},
   "outputs": [
    {
     "data": {
      "text/plain": [
       "19415"
      ]
     },
     "execution_count": 17,
     "metadata": {},
     "output_type": "execute_result"
    }
   ],
   "source": [
    "len(sets_themes)"
   ]
  },
  {
   "cell_type": "markdown",
   "id": "c4f3da01",
   "metadata": {},
   "source": [
    "### Now let's answer some questions"
   ]
  },
  {
   "cell_type": "markdown",
   "id": "496ea1ad",
   "metadata": {},
   "source": [
    "#### 1.)What is the total number of parts per theme\n"
   ]
  },
  {
   "cell_type": "code",
   "execution_count": 18,
   "id": "a8092b22",
   "metadata": {},
   "outputs": [
    {
     "data": {
      "text/html": [
       "<div>\n",
       "<style scoped>\n",
       "    .dataframe tbody tr th:only-of-type {\n",
       "        vertical-align: middle;\n",
       "    }\n",
       "\n",
       "    .dataframe tbody tr th {\n",
       "        vertical-align: top;\n",
       "    }\n",
       "\n",
       "    .dataframe thead th {\n",
       "        text-align: right;\n",
       "    }\n",
       "</style>\n",
       "<table border=\"1\" class=\"dataframe\">\n",
       "  <thead>\n",
       "    <tr style=\"text-align: right;\">\n",
       "      <th></th>\n",
       "      <th>name_themes</th>\n",
       "      <th>num_parts</th>\n",
       "    </tr>\n",
       "  </thead>\n",
       "  <tbody>\n",
       "    <tr>\n",
       "      <th>303</th>\n",
       "      <td>Technic</td>\n",
       "      <td>228199</td>\n",
       "    </tr>\n",
       "    <tr>\n",
       "      <th>292</th>\n",
       "      <td>Star Wars</td>\n",
       "      <td>224009</td>\n",
       "    </tr>\n",
       "    <tr>\n",
       "      <th>66</th>\n",
       "      <td>Creator Expert</td>\n",
       "      <td>132082</td>\n",
       "    </tr>\n",
       "    <tr>\n",
       "      <th>64</th>\n",
       "      <td>Creator</td>\n",
       "      <td>102388</td>\n",
       "    </tr>\n",
       "    <tr>\n",
       "      <th>209</th>\n",
       "      <td>Ninjago</td>\n",
       "      <td>96712</td>\n",
       "    </tr>\n",
       "  </tbody>\n",
       "</table>\n",
       "</div>"
      ],
      "text/plain": [
       "        name_themes  num_parts\n",
       "303         Technic     228199\n",
       "292       Star Wars     224009\n",
       "66   Creator Expert     132082\n",
       "64          Creator     102388\n",
       "209         Ninjago      96712"
      ]
     },
     "execution_count": 18,
     "metadata": {},
     "output_type": "execute_result"
    }
   ],
   "source": [
    "Num_Parts_per_theme = sets_themes.groupby('name_themes').sum().reset_index()\n",
    "Num_Parts_per_theme = Num_Parts_per_theme[['name_themes', 'num_parts']]\n",
    "Num_Parts_per_theme.sort_values('num_parts', ascending=False).head()\n"
   ]
  },
  {
   "cell_type": "markdown",
   "id": "3b14d226",
   "metadata": {},
   "source": [
    "#### 2.) What is the total number of parts per year"
   ]
  },
  {
   "cell_type": "code",
   "execution_count": 19,
   "id": "4f6340bb",
   "metadata": {},
   "outputs": [
    {
     "data": {
      "text/html": [
       "<div>\n",
       "<style scoped>\n",
       "    .dataframe tbody tr th:only-of-type {\n",
       "        vertical-align: middle;\n",
       "    }\n",
       "\n",
       "    .dataframe tbody tr th {\n",
       "        vertical-align: top;\n",
       "    }\n",
       "\n",
       "    .dataframe thead th {\n",
       "        text-align: right;\n",
       "    }\n",
       "</style>\n",
       "<table border=\"1\" class=\"dataframe\">\n",
       "  <thead>\n",
       "    <tr style=\"text-align: right;\">\n",
       "      <th></th>\n",
       "      <th>year</th>\n",
       "      <th>num_parts</th>\n",
       "    </tr>\n",
       "  </thead>\n",
       "  <tbody>\n",
       "    <tr>\n",
       "      <th>70</th>\n",
       "      <td>2021</td>\n",
       "      <td>264831</td>\n",
       "    </tr>\n",
       "    <tr>\n",
       "      <th>69</th>\n",
       "      <td>2020</td>\n",
       "      <td>211981</td>\n",
       "    </tr>\n",
       "    <tr>\n",
       "      <th>68</th>\n",
       "      <td>2019</td>\n",
       "      <td>191526</td>\n",
       "    </tr>\n",
       "    <tr>\n",
       "      <th>66</th>\n",
       "      <td>2017</td>\n",
       "      <td>178636</td>\n",
       "    </tr>\n",
       "    <tr>\n",
       "      <th>67</th>\n",
       "      <td>2018</td>\n",
       "      <td>171918</td>\n",
       "    </tr>\n",
       "  </tbody>\n",
       "</table>\n",
       "</div>"
      ],
      "text/plain": [
       "    year  num_parts\n",
       "70  2021     264831\n",
       "69  2020     211981\n",
       "68  2019     191526\n",
       "66  2017     178636\n",
       "67  2018     171918"
      ]
     },
     "execution_count": 19,
     "metadata": {},
     "output_type": "execute_result"
    }
   ],
   "source": [
    "Num_Parts_per_year = sets_themes.groupby('year').sum().reset_index()\n",
    "Num_Parts_per_year = Num_Parts_per_year[['year', 'num_parts']]\n",
    "Num_Parts_per_year.sort_values('num_parts', ascending=False).head()"
   ]
  },
  {
   "cell_type": "markdown",
   "id": "641d7495",
   "metadata": {},
   "source": [
    "#### 3.) How many sets were created in each Century in the dataset\n"
   ]
  },
  {
   "cell_type": "markdown",
   "id": "0d9ed35d",
   "metadata": {},
   "source": [
    "##### we have to add Century as a derived to the sets_themes dataset"
   ]
  },
  {
   "cell_type": "code",
   "execution_count": 20,
   "id": "79b9b5b8",
   "metadata": {},
   "outputs": [
    {
     "data": {
      "text/plain": [
       "array([1965, 1979, 1987, 2013, 1966, 1967, 1985, 1968, 2015, 2019, 1973,\n",
       "       1999, 1964, 1969, 1978, 1976, 1975, 2010, 2009, 2011, 2012, 1970,\n",
       "       2001, 2008, 2016, 2017, 2018, 2003, 2002, 2004, 2006, 1971, 1982,\n",
       "       2005, 2007, 1986, 2014, 2020, 2021, 2022, 1977, 1983, 1991, 1980,\n",
       "       1984, 1981, 2000, 1998, 1997, 1955, 1956, 1957, 1958, 1974, 1972,\n",
       "       1992, 1990, 1989, 1988, 1993, 1994, 1996, 1995, 1959, 1962, 1961,\n",
       "       1960, 1963, 1949, 1950, 1953, 1954], dtype=int64)"
      ]
     },
     "execution_count": 20,
     "metadata": {},
     "output_type": "execute_result"
    }
   ],
   "source": [
    "sets_themes['year'].unique()"
   ]
  },
  {
   "cell_type": "code",
   "execution_count": 21,
   "id": "bd7d87c6",
   "metadata": {},
   "outputs": [],
   "source": [
    "sets_themes['century'] = np.where(sets_themes['year'] > 2000, '21st_century', '20th_century')"
   ]
  },
  {
   "cell_type": "code",
   "execution_count": 22,
   "id": "f3bfc01d",
   "metadata": {},
   "outputs": [
    {
     "data": {
      "text/html": [
       "<div>\n",
       "<style scoped>\n",
       "    .dataframe tbody tr th:only-of-type {\n",
       "        vertical-align: middle;\n",
       "    }\n",
       "\n",
       "    .dataframe tbody tr th {\n",
       "        vertical-align: top;\n",
       "    }\n",
       "\n",
       "    .dataframe thead th {\n",
       "        text-align: right;\n",
       "    }\n",
       "</style>\n",
       "<table border=\"1\" class=\"dataframe\">\n",
       "  <thead>\n",
       "    <tr style=\"text-align: right;\">\n",
       "      <th></th>\n",
       "      <th>set_num</th>\n",
       "      <th>name_sets</th>\n",
       "      <th>year</th>\n",
       "      <th>theme_id</th>\n",
       "      <th>num_parts</th>\n",
       "      <th>id</th>\n",
       "      <th>name_themes</th>\n",
       "      <th>parent_id</th>\n",
       "      <th>century</th>\n",
       "    </tr>\n",
       "  </thead>\n",
       "  <tbody>\n",
       "    <tr>\n",
       "      <th>0</th>\n",
       "      <td>001-1</td>\n",
       "      <td>Gears</td>\n",
       "      <td>1965</td>\n",
       "      <td>1</td>\n",
       "      <td>43</td>\n",
       "      <td>1</td>\n",
       "      <td>Technic</td>\n",
       "      <td>NaN</td>\n",
       "      <td>20th_century</td>\n",
       "    </tr>\n",
       "    <tr>\n",
       "      <th>1</th>\n",
       "      <td>0011-2</td>\n",
       "      <td>Town Mini-Figures</td>\n",
       "      <td>1979</td>\n",
       "      <td>67</td>\n",
       "      <td>12</td>\n",
       "      <td>67</td>\n",
       "      <td>Classic Town</td>\n",
       "      <td>50.0</td>\n",
       "      <td>20th_century</td>\n",
       "    </tr>\n",
       "    <tr>\n",
       "      <th>2</th>\n",
       "      <td>0011-3</td>\n",
       "      <td>Castle 2 for 1 Bonus Offer</td>\n",
       "      <td>1987</td>\n",
       "      <td>199</td>\n",
       "      <td>0</td>\n",
       "      <td>199</td>\n",
       "      <td>Lion Knights</td>\n",
       "      <td>186.0</td>\n",
       "      <td>20th_century</td>\n",
       "    </tr>\n",
       "    <tr>\n",
       "      <th>3</th>\n",
       "      <td>0012-1</td>\n",
       "      <td>Space Mini-Figures</td>\n",
       "      <td>1979</td>\n",
       "      <td>143</td>\n",
       "      <td>12</td>\n",
       "      <td>143</td>\n",
       "      <td>Supplemental</td>\n",
       "      <td>126.0</td>\n",
       "      <td>20th_century</td>\n",
       "    </tr>\n",
       "    <tr>\n",
       "      <th>4</th>\n",
       "      <td>0013-1</td>\n",
       "      <td>Space Mini-Figures</td>\n",
       "      <td>1979</td>\n",
       "      <td>143</td>\n",
       "      <td>12</td>\n",
       "      <td>143</td>\n",
       "      <td>Supplemental</td>\n",
       "      <td>126.0</td>\n",
       "      <td>20th_century</td>\n",
       "    </tr>\n",
       "    <tr>\n",
       "      <th>...</th>\n",
       "      <td>...</td>\n",
       "      <td>...</td>\n",
       "      <td>...</td>\n",
       "      <td>...</td>\n",
       "      <td>...</td>\n",
       "      <td>...</td>\n",
       "      <td>...</td>\n",
       "      <td>...</td>\n",
       "      <td>...</td>\n",
       "    </tr>\n",
       "    <tr>\n",
       "      <th>19410</th>\n",
       "      <td>XWING-1</td>\n",
       "      <td>Mini X-Wing Fighter</td>\n",
       "      <td>2019</td>\n",
       "      <td>158</td>\n",
       "      <td>60</td>\n",
       "      <td>158</td>\n",
       "      <td>Star Wars</td>\n",
       "      <td>NaN</td>\n",
       "      <td>21st_century</td>\n",
       "    </tr>\n",
       "    <tr>\n",
       "      <th>19411</th>\n",
       "      <td>XWING-2</td>\n",
       "      <td>X-Wing Trench Run</td>\n",
       "      <td>2019</td>\n",
       "      <td>158</td>\n",
       "      <td>52</td>\n",
       "      <td>158</td>\n",
       "      <td>Star Wars</td>\n",
       "      <td>NaN</td>\n",
       "      <td>21st_century</td>\n",
       "    </tr>\n",
       "    <tr>\n",
       "      <th>19412</th>\n",
       "      <td>YODACHRON-1</td>\n",
       "      <td>Yoda Chronicles Promotional Set</td>\n",
       "      <td>2013</td>\n",
       "      <td>158</td>\n",
       "      <td>413</td>\n",
       "      <td>158</td>\n",
       "      <td>Star Wars</td>\n",
       "      <td>NaN</td>\n",
       "      <td>21st_century</td>\n",
       "    </tr>\n",
       "    <tr>\n",
       "      <th>19413</th>\n",
       "      <td>YTERRIER-1</td>\n",
       "      <td>Yorkshire Terrier</td>\n",
       "      <td>2018</td>\n",
       "      <td>598</td>\n",
       "      <td>0</td>\n",
       "      <td>598</td>\n",
       "      <td>Promotional</td>\n",
       "      <td>NaN</td>\n",
       "      <td>21st_century</td>\n",
       "    </tr>\n",
       "    <tr>\n",
       "      <th>19414</th>\n",
       "      <td>ZX8000-1</td>\n",
       "      <td>ZX 8000 LEGO Sneaker</td>\n",
       "      <td>2020</td>\n",
       "      <td>501</td>\n",
       "      <td>0</td>\n",
       "      <td>501</td>\n",
       "      <td>Gear</td>\n",
       "      <td>NaN</td>\n",
       "      <td>21st_century</td>\n",
       "    </tr>\n",
       "  </tbody>\n",
       "</table>\n",
       "<p>19415 rows × 9 columns</p>\n",
       "</div>"
      ],
      "text/plain": [
       "           set_num                        name_sets  year  theme_id  \\\n",
       "0            001-1                            Gears  1965         1   \n",
       "1           0011-2                Town Mini-Figures  1979        67   \n",
       "2           0011-3       Castle 2 for 1 Bonus Offer  1987       199   \n",
       "3           0012-1               Space Mini-Figures  1979       143   \n",
       "4           0013-1               Space Mini-Figures  1979       143   \n",
       "...            ...                              ...   ...       ...   \n",
       "19410      XWING-1              Mini X-Wing Fighter  2019       158   \n",
       "19411      XWING-2                X-Wing Trench Run  2019       158   \n",
       "19412  YODACHRON-1  Yoda Chronicles Promotional Set  2013       158   \n",
       "19413   YTERRIER-1                Yorkshire Terrier  2018       598   \n",
       "19414     ZX8000-1             ZX 8000 LEGO Sneaker  2020       501   \n",
       "\n",
       "       num_parts   id   name_themes  parent_id       century  \n",
       "0             43    1       Technic        NaN  20th_century  \n",
       "1             12   67  Classic Town       50.0  20th_century  \n",
       "2              0  199  Lion Knights      186.0  20th_century  \n",
       "3             12  143  Supplemental      126.0  20th_century  \n",
       "4             12  143  Supplemental      126.0  20th_century  \n",
       "...          ...  ...           ...        ...           ...  \n",
       "19410         60  158     Star Wars        NaN  21st_century  \n",
       "19411         52  158     Star Wars        NaN  21st_century  \n",
       "19412        413  158     Star Wars        NaN  21st_century  \n",
       "19413          0  598   Promotional        NaN  21st_century  \n",
       "19414          0  501          Gear        NaN  21st_century  \n",
       "\n",
       "[19415 rows x 9 columns]"
      ]
     },
     "execution_count": 22,
     "metadata": {},
     "output_type": "execute_result"
    }
   ],
   "source": [
    "sets_themes"
   ]
  },
  {
   "cell_type": "code",
   "execution_count": 23,
   "id": "d5a067e0",
   "metadata": {},
   "outputs": [
    {
     "data": {
      "text/html": [
       "<div>\n",
       "<style scoped>\n",
       "    .dataframe tbody tr th:only-of-type {\n",
       "        vertical-align: middle;\n",
       "    }\n",
       "\n",
       "    .dataframe tbody tr th {\n",
       "        vertical-align: top;\n",
       "    }\n",
       "\n",
       "    .dataframe thead th {\n",
       "        text-align: right;\n",
       "    }\n",
       "</style>\n",
       "<table border=\"1\" class=\"dataframe\">\n",
       "  <thead>\n",
       "    <tr style=\"text-align: right;\">\n",
       "      <th></th>\n",
       "      <th>century</th>\n",
       "      <th>set_num</th>\n",
       "    </tr>\n",
       "  </thead>\n",
       "  <tbody>\n",
       "    <tr>\n",
       "      <th>0</th>\n",
       "      <td>20th_century</td>\n",
       "      <td>4861</td>\n",
       "    </tr>\n",
       "    <tr>\n",
       "      <th>1</th>\n",
       "      <td>21st_century</td>\n",
       "      <td>14554</td>\n",
       "    </tr>\n",
       "  </tbody>\n",
       "</table>\n",
       "</div>"
      ],
      "text/plain": [
       "        century  set_num\n",
       "0  20th_century     4861\n",
       "1  21st_century    14554"
      ]
     },
     "execution_count": 23,
     "metadata": {},
     "output_type": "execute_result"
    }
   ],
   "source": [
    "Num_set_per_Century = sets_themes.groupby('century').count().reset_index()\n",
    "Num_set_per_Century = Num_set_per_Century[['century', 'set_num']]\n",
    "\n",
    "Num_set_per_Century"
   ]
  },
  {
   "cell_type": "markdown",
   "id": "82340d2b",
   "metadata": {},
   "source": [
    "#### What percentage of sets ever released in the 21st Century where Trains Themed"
   ]
  },
  {
   "cell_type": "code",
   "execution_count": 24,
   "id": "19f5fa1c",
   "metadata": {},
   "outputs": [],
   "source": [
    "Century_21_Data = sets_themes[sets_themes['century'] == '21st_century']\n",
    "Train = Century_21_Data[Century_21_Data['name_themes'].str.contains('Train')]"
   ]
  },
  {
   "cell_type": "code",
   "execution_count": 25,
   "id": "cc332bd8",
   "metadata": {},
   "outputs": [
    {
     "data": {
      "text/plain": [
       "(14554, 9)"
      ]
     },
     "execution_count": 25,
     "metadata": {},
     "output_type": "execute_result"
    }
   ],
   "source": [
    "Century_21_Data.shape"
   ]
  },
  {
   "cell_type": "code",
   "execution_count": 26,
   "id": "ef3b59b6",
   "metadata": {},
   "outputs": [
    {
     "data": {
      "text/plain": [
       "(64, 9)"
      ]
     },
     "execution_count": 26,
     "metadata": {},
     "output_type": "execute_result"
    }
   ],
   "source": [
    "Train.shape"
   ]
  },
  {
   "cell_type": "code",
   "execution_count": 27,
   "id": "f9b8f621",
   "metadata": {},
   "outputs": [
    {
     "data": {
      "text/plain": [
       "0.4397416517795795"
      ]
     },
     "execution_count": 27,
     "metadata": {},
     "output_type": "execute_result"
    }
   ],
   "source": [
    "Train.shape[0] / Century_21_Data.shape[0] * 100"
   ]
  },
  {
   "cell_type": "markdown",
   "id": "8431064c",
   "metadata": {},
   "source": [
    "#### What percentage of sets ever released in the 21st Century where Disney Themed\n"
   ]
  },
  {
   "cell_type": "code",
   "execution_count": 28,
   "id": "f8c58c9e",
   "metadata": {},
   "outputs": [],
   "source": [
    "Disney = Century_21_Data[Century_21_Data['name_themes'].str.contains('Disney')]"
   ]
  },
  {
   "cell_type": "code",
   "execution_count": 29,
   "id": "28fbf702",
   "metadata": {},
   "outputs": [
    {
     "data": {
      "text/plain": [
       "(184, 9)"
      ]
     },
     "execution_count": 29,
     "metadata": {},
     "output_type": "execute_result"
    }
   ],
   "source": [
    "Disney.shape"
   ]
  },
  {
   "cell_type": "code",
   "execution_count": 30,
   "id": "08d9497c",
   "metadata": {},
   "outputs": [
    {
     "data": {
      "text/plain": [
       "1.264257248866291"
      ]
     },
     "execution_count": 30,
     "metadata": {},
     "output_type": "execute_result"
    }
   ],
   "source": [
    "Disney.shape[0] / Century_21_Data.shape[0] * 100"
   ]
  },
  {
   "cell_type": "code",
   "execution_count": 31,
   "id": "331cee08",
   "metadata": {},
   "outputs": [
    {
     "data": {
      "text/html": [
       "<div>\n",
       "<style scoped>\n",
       "    .dataframe tbody tr th:only-of-type {\n",
       "        vertical-align: middle;\n",
       "    }\n",
       "\n",
       "    .dataframe tbody tr th {\n",
       "        vertical-align: top;\n",
       "    }\n",
       "\n",
       "    .dataframe thead th {\n",
       "        text-align: right;\n",
       "    }\n",
       "</style>\n",
       "<table border=\"1\" class=\"dataframe\">\n",
       "  <thead>\n",
       "    <tr style=\"text-align: right;\">\n",
       "      <th></th>\n",
       "      <th>year</th>\n",
       "      <th>name_themes</th>\n",
       "      <th>set_num</th>\n",
       "    </tr>\n",
       "  </thead>\n",
       "  <tbody>\n",
       "    <tr>\n",
       "      <th>1373</th>\n",
       "      <td>2022</td>\n",
       "      <td>City</td>\n",
       "      <td>49</td>\n",
       "    </tr>\n",
       "    <tr>\n",
       "      <th>1327</th>\n",
       "      <td>2021</td>\n",
       "      <td>Gear</td>\n",
       "      <td>215</td>\n",
       "    </tr>\n",
       "    <tr>\n",
       "      <th>1252</th>\n",
       "      <td>2020</td>\n",
       "      <td>Gear</td>\n",
       "      <td>151</td>\n",
       "    </tr>\n",
       "    <tr>\n",
       "      <th>1181</th>\n",
       "      <td>2019</td>\n",
       "      <td>Gear</td>\n",
       "      <td>173</td>\n",
       "    </tr>\n",
       "    <tr>\n",
       "      <th>1104</th>\n",
       "      <td>2018</td>\n",
       "      <td>Gear</td>\n",
       "      <td>116</td>\n",
       "    </tr>\n",
       "    <tr>\n",
       "      <th>1035</th>\n",
       "      <td>2017</td>\n",
       "      <td>Gear</td>\n",
       "      <td>155</td>\n",
       "    </tr>\n",
       "    <tr>\n",
       "      <th>953</th>\n",
       "      <td>2016</td>\n",
       "      <td>Gear</td>\n",
       "      <td>97</td>\n",
       "    </tr>\n",
       "    <tr>\n",
       "      <th>866</th>\n",
       "      <td>2015</td>\n",
       "      <td>Gear</td>\n",
       "      <td>94</td>\n",
       "    </tr>\n",
       "    <tr>\n",
       "      <th>820</th>\n",
       "      <td>2014</td>\n",
       "      <td>Technic</td>\n",
       "      <td>116</td>\n",
       "    </tr>\n",
       "    <tr>\n",
       "      <th>705</th>\n",
       "      <td>2013</td>\n",
       "      <td>Gear</td>\n",
       "      <td>97</td>\n",
       "    </tr>\n",
       "    <tr>\n",
       "      <th>630</th>\n",
       "      <td>2012</td>\n",
       "      <td>Gear</td>\n",
       "      <td>107</td>\n",
       "    </tr>\n",
       "    <tr>\n",
       "      <th>564</th>\n",
       "      <td>2011</td>\n",
       "      <td>Gear</td>\n",
       "      <td>104</td>\n",
       "    </tr>\n",
       "    <tr>\n",
       "      <th>506</th>\n",
       "      <td>2010</td>\n",
       "      <td>Gear</td>\n",
       "      <td>59</td>\n",
       "    </tr>\n",
       "    <tr>\n",
       "      <th>451</th>\n",
       "      <td>2009</td>\n",
       "      <td>Gear</td>\n",
       "      <td>104</td>\n",
       "    </tr>\n",
       "    <tr>\n",
       "      <th>397</th>\n",
       "      <td>2008</td>\n",
       "      <td>Gear</td>\n",
       "      <td>84</td>\n",
       "    </tr>\n",
       "    <tr>\n",
       "      <th>340</th>\n",
       "      <td>2007</td>\n",
       "      <td>Gear</td>\n",
       "      <td>109</td>\n",
       "    </tr>\n",
       "    <tr>\n",
       "      <th>286</th>\n",
       "      <td>2006</td>\n",
       "      <td>Gear</td>\n",
       "      <td>75</td>\n",
       "    </tr>\n",
       "    <tr>\n",
       "      <th>213</th>\n",
       "      <td>2005</td>\n",
       "      <td>Bionicle</td>\n",
       "      <td>36</td>\n",
       "    </tr>\n",
       "    <tr>\n",
       "      <th>165</th>\n",
       "      <td>2004</td>\n",
       "      <td>Bionicle</td>\n",
       "      <td>48</td>\n",
       "    </tr>\n",
       "    <tr>\n",
       "      <th>109</th>\n",
       "      <td>2003</td>\n",
       "      <td>Bionicle</td>\n",
       "      <td>63</td>\n",
       "    </tr>\n",
       "    <tr>\n",
       "      <th>96</th>\n",
       "      <td>2002</td>\n",
       "      <td>Technic</td>\n",
       "      <td>65</td>\n",
       "    </tr>\n",
       "    <tr>\n",
       "      <th>6</th>\n",
       "      <td>2001</td>\n",
       "      <td>Bionicle</td>\n",
       "      <td>47</td>\n",
       "    </tr>\n",
       "  </tbody>\n",
       "</table>\n",
       "</div>"
      ],
      "text/plain": [
       "      year name_themes  set_num\n",
       "1373  2022        City       49\n",
       "1327  2021        Gear      215\n",
       "1252  2020        Gear      151\n",
       "1181  2019        Gear      173\n",
       "1104  2018        Gear      116\n",
       "1035  2017        Gear      155\n",
       "953   2016        Gear       97\n",
       "866   2015        Gear       94\n",
       "820   2014     Technic      116\n",
       "705   2013        Gear       97\n",
       "630   2012        Gear      107\n",
       "564   2011        Gear      104\n",
       "506   2010        Gear       59\n",
       "451   2009        Gear      104\n",
       "397   2008        Gear       84\n",
       "340   2007        Gear      109\n",
       "286   2006        Gear       75\n",
       "213   2005    Bionicle       36\n",
       "165   2004    Bionicle       48\n",
       "109   2003    Bionicle       63\n",
       "96    2002     Technic       65\n",
       "6     2001    Bionicle       47"
      ]
     },
     "execution_count": 31,
     "metadata": {},
     "output_type": "execute_result"
    }
   ],
   "source": [
    "Populer_theme_per_year = Century_21_Data.groupby(['year', 'name_themes']).count().reset_index()\n",
    "Populer_theme_per_year = Populer_theme_per_year[['year', 'name_themes', 'set_num']].sort_values('set_num', ascending=False)\n",
    "Populer_theme_per_year.drop_duplicates('year').sort_values('year', ascending=False)\n",
    "\n"
   ]
  },
  {
   "cell_type": "markdown",
   "id": "0c77d30c",
   "metadata": {},
   "source": [
    "#### What is the most produced color of lego ever in terms of quantity of parts"
   ]
  },
  {
   "cell_type": "code",
   "execution_count": 32,
   "id": "84fdc11b",
   "metadata": {},
   "outputs": [],
   "source": [
    "colors = pd.read_csv('colors.csv')"
   ]
  },
  {
   "cell_type": "code",
   "execution_count": 33,
   "id": "5f5fd8a4",
   "metadata": {},
   "outputs": [
    {
     "data": {
      "text/html": [
       "<div>\n",
       "<style scoped>\n",
       "    .dataframe tbody tr th:only-of-type {\n",
       "        vertical-align: middle;\n",
       "    }\n",
       "\n",
       "    .dataframe tbody tr th {\n",
       "        vertical-align: top;\n",
       "    }\n",
       "\n",
       "    .dataframe thead th {\n",
       "        text-align: right;\n",
       "    }\n",
       "</style>\n",
       "<table border=\"1\" class=\"dataframe\">\n",
       "  <thead>\n",
       "    <tr style=\"text-align: right;\">\n",
       "      <th></th>\n",
       "      <th>id</th>\n",
       "      <th>name</th>\n",
       "      <th>rgb</th>\n",
       "      <th>is_trans</th>\n",
       "    </tr>\n",
       "  </thead>\n",
       "  <tbody>\n",
       "    <tr>\n",
       "      <th>0</th>\n",
       "      <td>-1</td>\n",
       "      <td>[Unknown]</td>\n",
       "      <td>0033B2</td>\n",
       "      <td>f</td>\n",
       "    </tr>\n",
       "    <tr>\n",
       "      <th>1</th>\n",
       "      <td>0</td>\n",
       "      <td>Black</td>\n",
       "      <td>05131D</td>\n",
       "      <td>f</td>\n",
       "    </tr>\n",
       "    <tr>\n",
       "      <th>2</th>\n",
       "      <td>1</td>\n",
       "      <td>Blue</td>\n",
       "      <td>0055BF</td>\n",
       "      <td>f</td>\n",
       "    </tr>\n",
       "    <tr>\n",
       "      <th>3</th>\n",
       "      <td>2</td>\n",
       "      <td>Green</td>\n",
       "      <td>237841</td>\n",
       "      <td>f</td>\n",
       "    </tr>\n",
       "    <tr>\n",
       "      <th>4</th>\n",
       "      <td>3</td>\n",
       "      <td>Dark Turquoise</td>\n",
       "      <td>008F9B</td>\n",
       "      <td>f</td>\n",
       "    </tr>\n",
       "    <tr>\n",
       "      <th>5</th>\n",
       "      <td>4</td>\n",
       "      <td>Red</td>\n",
       "      <td>C91A09</td>\n",
       "      <td>f</td>\n",
       "    </tr>\n",
       "    <tr>\n",
       "      <th>6</th>\n",
       "      <td>5</td>\n",
       "      <td>Dark Pink</td>\n",
       "      <td>C870A0</td>\n",
       "      <td>f</td>\n",
       "    </tr>\n",
       "    <tr>\n",
       "      <th>7</th>\n",
       "      <td>6</td>\n",
       "      <td>Brown</td>\n",
       "      <td>583927</td>\n",
       "      <td>f</td>\n",
       "    </tr>\n",
       "    <tr>\n",
       "      <th>8</th>\n",
       "      <td>7</td>\n",
       "      <td>Light Gray</td>\n",
       "      <td>9BA19D</td>\n",
       "      <td>f</td>\n",
       "    </tr>\n",
       "    <tr>\n",
       "      <th>9</th>\n",
       "      <td>8</td>\n",
       "      <td>Dark Gray</td>\n",
       "      <td>6D6E5C</td>\n",
       "      <td>f</td>\n",
       "    </tr>\n",
       "  </tbody>\n",
       "</table>\n",
       "</div>"
      ],
      "text/plain": [
       "   id            name     rgb is_trans\n",
       "0  -1       [Unknown]  0033B2        f\n",
       "1   0           Black  05131D        f\n",
       "2   1            Blue  0055BF        f\n",
       "3   2           Green  237841        f\n",
       "4   3  Dark Turquoise  008F9B        f\n",
       "5   4             Red  C91A09        f\n",
       "6   5       Dark Pink  C870A0        f\n",
       "7   6           Brown  583927        f\n",
       "8   7      Light Gray  9BA19D        f\n",
       "9   8       Dark Gray  6D6E5C        f"
      ]
     },
     "execution_count": 33,
     "metadata": {},
     "output_type": "execute_result"
    }
   ],
   "source": [
    "colors.head(10)"
   ]
  },
  {
   "cell_type": "code",
   "execution_count": 34,
   "id": "d890c3b8",
   "metadata": {},
   "outputs": [],
   "source": [
    "inv_part = pd.read_csv('inventory_parts.csv')\n"
   ]
  },
  {
   "cell_type": "code",
   "execution_count": 35,
   "id": "4bb7fd30",
   "metadata": {},
   "outputs": [
    {
     "data": {
      "text/html": [
       "<div>\n",
       "<style scoped>\n",
       "    .dataframe tbody tr th:only-of-type {\n",
       "        vertical-align: middle;\n",
       "    }\n",
       "\n",
       "    .dataframe tbody tr th {\n",
       "        vertical-align: top;\n",
       "    }\n",
       "\n",
       "    .dataframe thead th {\n",
       "        text-align: right;\n",
       "    }\n",
       "</style>\n",
       "<table border=\"1\" class=\"dataframe\">\n",
       "  <thead>\n",
       "    <tr style=\"text-align: right;\">\n",
       "      <th></th>\n",
       "      <th>inventory_id</th>\n",
       "      <th>part_num</th>\n",
       "      <th>color_id</th>\n",
       "      <th>quantity</th>\n",
       "      <th>is_spare</th>\n",
       "    </tr>\n",
       "  </thead>\n",
       "  <tbody>\n",
       "    <tr>\n",
       "      <th>0</th>\n",
       "      <td>1</td>\n",
       "      <td>48379c01</td>\n",
       "      <td>72</td>\n",
       "      <td>1</td>\n",
       "      <td>f</td>\n",
       "    </tr>\n",
       "    <tr>\n",
       "      <th>1</th>\n",
       "      <td>1</td>\n",
       "      <td>48395</td>\n",
       "      <td>7</td>\n",
       "      <td>1</td>\n",
       "      <td>f</td>\n",
       "    </tr>\n",
       "    <tr>\n",
       "      <th>2</th>\n",
       "      <td>1</td>\n",
       "      <td>stickerupn0077</td>\n",
       "      <td>9999</td>\n",
       "      <td>1</td>\n",
       "      <td>f</td>\n",
       "    </tr>\n",
       "    <tr>\n",
       "      <th>3</th>\n",
       "      <td>1</td>\n",
       "      <td>upn0342</td>\n",
       "      <td>0</td>\n",
       "      <td>1</td>\n",
       "      <td>f</td>\n",
       "    </tr>\n",
       "    <tr>\n",
       "      <th>4</th>\n",
       "      <td>1</td>\n",
       "      <td>upn0350</td>\n",
       "      <td>25</td>\n",
       "      <td>1</td>\n",
       "      <td>f</td>\n",
       "    </tr>\n",
       "    <tr>\n",
       "      <th>...</th>\n",
       "      <td>...</td>\n",
       "      <td>...</td>\n",
       "      <td>...</td>\n",
       "      <td>...</td>\n",
       "      <td>...</td>\n",
       "    </tr>\n",
       "    <tr>\n",
       "      <th>1021260</th>\n",
       "      <td>138011</td>\n",
       "      <td>6578</td>\n",
       "      <td>0</td>\n",
       "      <td>4</td>\n",
       "      <td>f</td>\n",
       "    </tr>\n",
       "    <tr>\n",
       "      <th>1021261</th>\n",
       "      <td>138011</td>\n",
       "      <td>6587</td>\n",
       "      <td>72</td>\n",
       "      <td>1</td>\n",
       "      <td>f</td>\n",
       "    </tr>\n",
       "    <tr>\n",
       "      <th>1021262</th>\n",
       "      <td>138011</td>\n",
       "      <td>6636</td>\n",
       "      <td>71</td>\n",
       "      <td>4</td>\n",
       "      <td>f</td>\n",
       "    </tr>\n",
       "    <tr>\n",
       "      <th>1021263</th>\n",
       "      <td>138011</td>\n",
       "      <td>6636</td>\n",
       "      <td>4</td>\n",
       "      <td>4</td>\n",
       "      <td>f</td>\n",
       "    </tr>\n",
       "    <tr>\n",
       "      <th>1021264</th>\n",
       "      <td>138011</td>\n",
       "      <td>76385</td>\n",
       "      <td>4</td>\n",
       "      <td>2</td>\n",
       "      <td>f</td>\n",
       "    </tr>\n",
       "  </tbody>\n",
       "</table>\n",
       "<p>1021265 rows × 5 columns</p>\n",
       "</div>"
      ],
      "text/plain": [
       "         inventory_id        part_num  color_id  quantity is_spare\n",
       "0                   1        48379c01        72         1        f\n",
       "1                   1           48395         7         1        f\n",
       "2                   1  stickerupn0077      9999         1        f\n",
       "3                   1         upn0342         0         1        f\n",
       "4                   1         upn0350        25         1        f\n",
       "...               ...             ...       ...       ...      ...\n",
       "1021260        138011            6578         0         4        f\n",
       "1021261        138011            6587        72         1        f\n",
       "1021262        138011            6636        71         4        f\n",
       "1021263        138011            6636         4         4        f\n",
       "1021264        138011           76385         4         2        f\n",
       "\n",
       "[1021265 rows x 5 columns]"
      ]
     },
     "execution_count": 35,
     "metadata": {},
     "output_type": "execute_result"
    }
   ],
   "source": [
    "inv_part"
   ]
  },
  {
   "cell_type": "markdown",
   "id": "47f5e7c9",
   "metadata": {},
   "source": [
    "#### Join two datasets to answer the question"
   ]
  },
  {
   "cell_type": "code",
   "execution_count": 36,
   "id": "720c1bed",
   "metadata": {},
   "outputs": [],
   "source": [
    "color_inv = pd.merge(inv_part, colors, how = 'left', left_on = 'color_id', right_on  = 'id')\n"
   ]
  },
  {
   "cell_type": "code",
   "execution_count": 37,
   "id": "aa5b9f57",
   "metadata": {},
   "outputs": [],
   "source": [
    "color_inv.rename(columns = {'name': 'color_name'}, inplace = True)"
   ]
  },
  {
   "cell_type": "code",
   "execution_count": 38,
   "id": "555d8497",
   "metadata": {},
   "outputs": [
    {
     "name": "stdout",
     "output_type": "stream",
     "text": [
      "<class 'pandas.core.frame.DataFrame'>\n",
      "Int64Index: 1021265 entries, 0 to 1021264\n",
      "Data columns (total 9 columns):\n",
      " #   Column        Non-Null Count    Dtype \n",
      "---  ------        --------------    ----- \n",
      " 0   inventory_id  1021265 non-null  int64 \n",
      " 1   part_num      1021265 non-null  object\n",
      " 2   color_id      1021265 non-null  int64 \n",
      " 3   quantity      1021265 non-null  int64 \n",
      " 4   is_spare      1021265 non-null  object\n",
      " 5   id            1021265 non-null  int64 \n",
      " 6   color_name    1021265 non-null  object\n",
      " 7   rgb           1021265 non-null  object\n",
      " 8   is_trans      1021265 non-null  object\n",
      "dtypes: int64(4), object(5)\n",
      "memory usage: 77.9+ MB\n"
     ]
    }
   ],
   "source": [
    "color_inv.info()"
   ]
  },
  {
   "cell_type": "code",
   "execution_count": 39,
   "id": "2d54c604",
   "metadata": {},
   "outputs": [
    {
     "data": {
      "text/html": [
       "<div>\n",
       "<style scoped>\n",
       "    .dataframe tbody tr th:only-of-type {\n",
       "        vertical-align: middle;\n",
       "    }\n",
       "\n",
       "    .dataframe tbody tr th {\n",
       "        vertical-align: top;\n",
       "    }\n",
       "\n",
       "    .dataframe thead th {\n",
       "        text-align: right;\n",
       "    }\n",
       "</style>\n",
       "<table border=\"1\" class=\"dataframe\">\n",
       "  <thead>\n",
       "    <tr style=\"text-align: right;\">\n",
       "      <th></th>\n",
       "      <th>color_name</th>\n",
       "      <th>quantity</th>\n",
       "    </tr>\n",
       "  </thead>\n",
       "  <tbody>\n",
       "    <tr>\n",
       "      <th>1</th>\n",
       "      <td>Black</td>\n",
       "      <td>645886</td>\n",
       "    </tr>\n",
       "    <tr>\n",
       "      <th>58</th>\n",
       "      <td>Light Bluish Gray</td>\n",
       "      <td>385494</td>\n",
       "    </tr>\n",
       "    <tr>\n",
       "      <th>198</th>\n",
       "      <td>White</td>\n",
       "      <td>379771</td>\n",
       "    </tr>\n",
       "    <tr>\n",
       "      <th>23</th>\n",
       "      <td>Dark Bluish Gray</td>\n",
       "      <td>271103</td>\n",
       "    </tr>\n",
       "    <tr>\n",
       "      <th>137</th>\n",
       "      <td>Red</td>\n",
       "      <td>256542</td>\n",
       "    </tr>\n",
       "    <tr>\n",
       "      <th>2</th>\n",
       "      <td>Blue</td>\n",
       "      <td>178515</td>\n",
       "    </tr>\n",
       "    <tr>\n",
       "      <th>199</th>\n",
       "      <td>Yellow</td>\n",
       "      <td>177041</td>\n",
       "    </tr>\n",
       "    <tr>\n",
       "      <th>155</th>\n",
       "      <td>Tan</td>\n",
       "      <td>125366</td>\n",
       "    </tr>\n",
       "    <tr>\n",
       "      <th>138</th>\n",
       "      <td>Reddish Brown</td>\n",
       "      <td>106430</td>\n",
       "    </tr>\n",
       "    <tr>\n",
       "      <th>60</th>\n",
       "      <td>Light Gray</td>\n",
       "      <td>101880</td>\n",
       "    </tr>\n",
       "  </tbody>\n",
       "</table>\n",
       "</div>"
      ],
      "text/plain": [
       "            color_name  quantity\n",
       "1                Black    645886\n",
       "58   Light Bluish Gray    385494\n",
       "198              White    379771\n",
       "23    Dark Bluish Gray    271103\n",
       "137                Red    256542\n",
       "2                 Blue    178515\n",
       "199             Yellow    177041\n",
       "155                Tan    125366\n",
       "138      Reddish Brown    106430\n",
       "60          Light Gray    101880"
      ]
     },
     "execution_count": 39,
     "metadata": {},
     "output_type": "execute_result"
    }
   ],
   "source": [
    "Popular_color = color_inv.groupby('color_name').sum().reset_index()\n",
    "\n",
    "Popular_color = Popular_color[['color_name', 'quantity']].sort_values('quantity', ascending=False)\n",
    "Popular_color.head(10)"
   ]
  }
 ],
 "metadata": {
  "kernelspec": {
   "display_name": "Python 3 (ipykernel)",
   "language": "python",
   "name": "python3"
  },
  "language_info": {
   "codemirror_mode": {
    "name": "ipython",
    "version": 3
   },
   "file_extension": ".py",
   "mimetype": "text/x-python",
   "name": "python",
   "nbconvert_exporter": "python",
   "pygments_lexer": "ipython3",
   "version": "3.9.12"
  }
 },
 "nbformat": 4,
 "nbformat_minor": 5
}
